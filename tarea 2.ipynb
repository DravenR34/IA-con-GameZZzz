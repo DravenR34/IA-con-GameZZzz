{
 "cells": [
  {
   "cell_type": "markdown",
   "id": "599671df-6653-4089-bb66-7a1fb1b38ddc",
   "metadata": {
    "tags": []
   },
   "source": [
    "<br> \n",
    "<p style=\"color:red; font-size:300%;\"> Esto es un texto rojo 300% </p>\n",
    "\n",
    "  "
   ]
  },
  {
   "cell_type": "markdown",
   "id": "3d19c970-01fe-4a8d-b834-4425c30380e1",
   "metadata": {
    "tags": []
   },
   "source": [
    "<br>\n",
    "<p style=\"color:blue; font-size:100%;\"> Esto es un texto azul 100% </p>\n",
    "\n",
    "    "
   ]
  },
  {
   "cell_type": "markdown",
   "id": "5a7573d4-f4c3-4dae-bd98-0b47eb127932",
   "metadata": {},
   "source": [
    "<br>\n",
    "<p style=\"color:green; font-size:200%;\"> Esto es un texto verde 200% </p>\n",
    "\n",
    "    "
   ]
  },
  {
   "cell_type": "code",
   "execution_count": null,
   "id": "b7b39319-1809-48d1-bf9c-485d933da8ff",
   "metadata": {},
   "outputs": [],
   "source": []
  },
  {
   "cell_type": "markdown",
   "id": "b8a0e795-0941-4a67-a4ce-e1885a8704af",
   "metadata": {
    "tags": []
   },
   "source": [
    "<br>\n",
    "<br>\n",
    "<table style = \"width:100%\">\n",
    " <tr>\n",
    "    <th> Amigo Simio </th>\n",
    "     <th> Celda vacia   </th>\n",
    " </tr>\n",
    "    <td>\n",
    "      <img src= https://pbs.twimg.com/profile_images/1372851405/200px-Chango1_400x400.jpg>\n",
    "    </td>"
   ]
  },
  {
   "cell_type": "markdown",
   "id": "753cd028-434e-49fc-86c3-0e7b1e352960",
   "metadata": {
    "tags": []
   },
   "source": [
    "<a href=https://www.bancodeimagenesgratis.com/2012/03/un-chango-muy-monito-animales-en-su.html> Esto es un link a Monitos </a>"
   ]
  },
  {
   "cell_type": "markdown",
   "id": "5a566392-fe2f-4d97-b872-b96a35c8e57f",
   "metadata": {
    "tags": []
   },
   "source": [
    "<br>\n",
    "<br>\n",
    "<table style = \"width:100%\">\n",
    " <tr>\n",
    "    <th> Fresas </th>\n",
    "     <th> Uvas   </th>\n",
    " </tr>\n",
    "    <td>\n",
    "      <img src= https://i0.wp.com/frutascarpio.com/wp-content/uploads/2022/03/img30.1.jpg?fit=1600%2C900&ssl=1>\n",
    "    </td>\n",
    "    <td>\n",
    "      <img src= https://frutasyverduras.info/wp-content/uploads/2018/07/uvas-1024x683.webp>\n",
    "    </td>"
   ]
  },
  {
   "cell_type": "markdown",
   "id": "c66fa00a-7780-498b-beed-53d71c83c7e2",
   "metadata": {},
   "source": [
    "<a href=https://www.cocinayvino.com/recetas/ensaladas/ensalada-fresas-uvas/> Esto es un link a Receta de uvas con fresas </a>"
   ]
  },
  {
   "cell_type": "markdown",
   "id": "f9f2dc54-2684-4d86-bc0f-c913e86df4d7",
   "metadata": {},
   "source": [
    "**Clase IA**\n"
   ]
  },
  {
   "cell_type": "markdown",
   "id": "5e649a2d-d914-4a73-bab5-d98194db8587",
   "metadata": {},
   "source": [
    "*Texto en cursiva*"
   ]
  },
  {
   "cell_type": "markdown",
   "id": "65ab5fd0-6bd8-4ab4-96ec-b197de74ddb2",
   "metadata": {},
   "source": [
    "$ e^ {i\\pi} + 1 = 0 $"
   ]
  },
  {
   "cell_type": "markdown",
   "id": "039ea941-1705-4356-9f42-56c4ed095c0d",
   "metadata": {},
   "source": [
    "$ \\int_o^\\infty x^{-\\alpha} $"
   ]
  },
  {
   "cell_type": "code",
   "execution_count": null,
   "id": "3618f53d-a7d8-498a-9083-62e66aab6253",
   "metadata": {},
   "outputs": [],
   "source": []
  }
 ],
 "metadata": {
  "kernelspec": {
   "display_name": "Python 3 (ipykernel)",
   "language": "python",
   "name": "python3"
  },
  "language_info": {
   "codemirror_mode": {
    "name": "ipython",
    "version": 3
   },
   "file_extension": ".py",
   "mimetype": "text/x-python",
   "name": "python",
   "nbconvert_exporter": "python",
   "pygments_lexer": "ipython3",
   "version": "3.9.12"
  }
 },
 "nbformat": 4,
 "nbformat_minor": 5
}
